{
  "nbformat": 4,
  "nbformat_minor": 0,
  "metadata": {
    "colab": {
      "name": "Part2 Q2.ipynb",
      "provenance": [],
      "collapsed_sections": [],
      "authorship_tag": "ABX9TyOAAhdu2JLJBl8lB5oVsyYO",
      "include_colab_link": true
    },
    "kernelspec": {
      "name": "python3",
      "display_name": "Python 3"
    },
    "language_info": {
      "name": "python"
    }
  },
  "cells": [
    {
      "cell_type": "markdown",
      "metadata": {
        "id": "view-in-github",
        "colab_type": "text"
      },
      "source": [
        "<a href=\"https://colab.research.google.com/github/supriya130114/Next-Growth-Evaluation1/blob/main/Part2_Q2.ipynb\" target=\"_parent\"><img src=\"https://colab.research.google.com/assets/colab-badge.svg\" alt=\"Open In Colab\"/></a>"
      ]
    },
    {
      "cell_type": "code",
      "execution_count": null,
      "metadata": {
        "id": "MxHwBmbAVAHP"
      },
      "outputs": [],
      "source": [
        ""
      ]
    },
    {
      "cell_type": "markdown",
      "source": [
        "## Questions\n",
        "\n",
        "1. **Write about any difficult problem that you solved. (According to us difficult - is something which 90% of people would have only 10% probability in getting a similarly good solution).**\n",
        " Ans: I worked on the project of Employee performance considering various constraints the main constraint is effect on employee perforamnce depending upon work from home situation. The problem is we don't have dataset we have to collect or make the random dataset.So I created random dataset using various python libraries. The dataset has 5000 rows and 30 features but the some of the features were not corelated.I solved this problem of correlation of Random dataset using various conditional statement applying on features.\n",
        "\n",
        "2. Formally, a vector space V' is a subspace of a vector space V if\n",
        "-  V' is a vector space\n",
        "-  every element of V′ is also an element of V.\n",
        "\n",
        "Note that ordered pairs of real numbers (a,b) a,b∈R form a vector space V. Which of the following is a subspace of V?\n",
        "\n",
        "-  The set of pairs (a, a + 1) for all real a\n",
        "-  The set of pairs (a, b) for all real a ≥ b\n",
        "-  The set of pairs (a, 2a) for all real a\n",
        "-  The set of pairs (a, b) for all non-negative real a,b\n",
        "\n",
        "Answer - The set of pairs (a,b) for all real a >= b "
      ],
      "metadata": {
        "id": "OG54GTT_VBv-"
      }
    }
  ]
}