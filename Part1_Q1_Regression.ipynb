{
  "nbformat": 4,
  "nbformat_minor": 0,
  "metadata": {
    "colab": {
      "name": "Part1-Q1 Regression.ipynb",
      "provenance": [],
      "authorship_tag": "ABX9TyPkYk28sIumwb8ED8vNomno",
      "include_colab_link": true
    },
    "kernelspec": {
      "name": "python3",
      "display_name": "Python 3"
    },
    "language_info": {
      "name": "python"
    }
  },
  "cells": [
    {
      "cell_type": "markdown",
      "metadata": {
        "id": "view-in-github",
        "colab_type": "text"
      },
      "source": [
        "<a href=\"https://colab.research.google.com/github/supriya130114/Next-Growth-Evaluation1/blob/main/Part1_Q1_Regression.ipynb\" target=\"_parent\"><img src=\"https://colab.research.google.com/assets/colab-badge.svg\" alt=\"Open In Colab\"/></a>"
      ]
    },
    {
      "cell_type": "code",
      "execution_count": null,
      "metadata": {
        "id": "4fHmtsSnI7ZL"
      },
      "outputs": [],
      "source": [
        ""
      ]
    },
    {
      "cell_type": "markdown",
      "source": [
        "Problem statement: Write a regex to extract all the numbers with orange color background from the below text in italics."
      ],
      "metadata": {
        "id": "YUG-ZkLEI8b5"
      }
    },
    {
      "cell_type": "code",
      "source": [
        "#Assinging the dictionsry to. variable\n",
        "prob = {\"orders\":[{\"id\":1},{\"id\":2},{\"id\":3},{\"id\":4},{\"id\":5},{\"id\":6},{\"id\":7},{\"id\":8},{\"id\":9},{\"id\":10},{\"id\":11},{\"id\":648},{\"id\":649},{\"id\":650},{\"id\":651},{\"id\":652},{\"id\":653}],\"errors\":[{\"code\":3,\"message\":\"[PHP Warning #2.] count(): Parameter must be an array or an object that implements Countable (153.)\"}]}\n",
        "#Importing regular expressions module\n",
        "import re\n",
        "#Writing the regex code\n",
        "solution = re.findall(r'\\s[0-9]+',str(prob))\n",
        "#printing solution\n",
        "print(solution)"
      ],
      "metadata": {
        "colab": {
          "base_uri": "https://localhost:8080/"
        },
        "id": "scqaXBmnI9za",
        "outputId": "2716df41-f144-4baa-aaf3-600178a6bc16"
      },
      "execution_count": null,
      "outputs": [
        {
          "output_type": "stream",
          "name": "stdout",
          "text": [
            "[' 1', ' 2', ' 3', ' 4', ' 5', ' 6', ' 7', ' 8', ' 9', ' 10', ' 11', ' 648', ' 649', ' 650', ' 651', ' 652', ' 653', ' 3']\n"
          ]
        }
      ]
    }
  ]
}